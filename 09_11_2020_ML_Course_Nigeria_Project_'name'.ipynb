{
  "nbformat": 4,
  "nbformat_minor": 0,
  "metadata": {
    "kernelspec": {
      "display_name": "Python 3",
      "language": "python",
      "name": "python3"
    },
    "language_info": {
      "codemirror_mode": {
        "name": "ipython",
        "version": 3
      },
      "file_extension": ".py",
      "mimetype": "text/x-python",
      "name": "python",
      "nbconvert_exporter": "python",
      "pygments_lexer": "ipython3",
      "version": "3.7.3"
    },
    "colab": {
      "name": "09-11-2020 ML Course Nigeria Project 'name'.ipynb",
      "provenance": []
    }
  },
  "cells": [
    {
      "cell_type": "markdown",
      "metadata": {
        "id": "zWobAqcO8ynn"
      },
      "source": [
        "# Project\n",
        "\n",
        "In this project, our aim is to building a model for predicting churn. Churn is the percentage of customers that stopped using your company's product or service during a certain time frame. Thus, in the given dataset, our label will be `Churn` column.\n",
        "\n",
        "## Steps\n",
        "- Read the `churn.csv` file and describe it.\n",
        "- Make at least 4 different analysis on Exploratory Data Analysis section.\n",
        "- Pre-process the dataset to get ready for ML application. (Check missing data and handle them, can we need to do scaling or feature extraction etc.)\n",
        "- Define appropriate evaluation metric for our case (classification).\n",
        "- Train and evaluate Logistic Regression, Decision Trees and one other appropriate algorithm which you can choose from scikit-learn library.\n",
        "- Is there any overfitting and underfitting? Interpret your results and try to overcome if there is any problem in a new section.\n",
        "- Create confusion metrics for each algorithm and display Accuracy, Recall, Precision and F1-Score values.\n",
        "- Analyse and compare results of 3 algorithms.\n",
        "- Select best performing model based on evaluation metric you chose on test dataset.\n",
        "\n",
        "\n",
        "Good luck :)"
      ]
    },
    {
      "cell_type": "markdown",
      "metadata": {
        "id": "kyQ7d0cr8ynt"
      },
      "source": [
        "<h2>Your Name</h2>"
      ]
    },
    {
      "cell_type": "markdown",
      "metadata": {
        "id": "58o1NwKs8ynv"
      },
      "source": [
        "# Data"
      ]
    },
    {
      "cell_type": "code",
      "metadata": {
        "id": "BImZToeK8ynw"
      },
      "source": [
        "import pandas as pd\n",
        "import seaborn as sns\n",
        "import numpy as np\n",
        "import matplotlib.pyplot as plt"
      ],
      "execution_count": 1,
      "outputs": []
    },
    {
      "cell_type": "code",
      "metadata": {
        "id": "4ctoLHqa8yn1",
        "outputId": "3325728d-39db-4539-925d-03885658e44d",
        "colab": {
          "base_uri": "https://localhost:8080/",
          "height": 204
        }
      },
      "source": [
        "# Read csv\n",
        "url = \"https://github.com/majorhenry/ML_Course_9-11-20/raw/main/Project/churn.csv\"\n",
        "data = pd.read_csv(url)\n",
        "data.head()"
      ],
      "execution_count": 4,
      "outputs": [
        {
          "output_type": "execute_result",
          "data": {
            "text/html": [
              "<div>\n",
              "<style scoped>\n",
              "    .dataframe tbody tr th:only-of-type {\n",
              "        vertical-align: middle;\n",
              "    }\n",
              "\n",
              "    .dataframe tbody tr th {\n",
              "        vertical-align: top;\n",
              "    }\n",
              "\n",
              "    .dataframe thead th {\n",
              "        text-align: right;\n",
              "    }\n",
              "</style>\n",
              "<table border=\"1\" class=\"dataframe\">\n",
              "  <thead>\n",
              "    <tr style=\"text-align: right;\">\n",
              "      <th></th>\n",
              "      <th>Churn</th>\n",
              "      <th>AccountWeeks</th>\n",
              "      <th>ContractRenewal</th>\n",
              "      <th>DataPlan</th>\n",
              "      <th>DataUsage</th>\n",
              "      <th>CustServCalls</th>\n",
              "      <th>DayMins</th>\n",
              "      <th>DayCalls</th>\n",
              "      <th>MonthlyCharge</th>\n",
              "      <th>OverageFee</th>\n",
              "      <th>RoamMins</th>\n",
              "    </tr>\n",
              "  </thead>\n",
              "  <tbody>\n",
              "    <tr>\n",
              "      <th>0</th>\n",
              "      <td>0</td>\n",
              "      <td>128</td>\n",
              "      <td>1</td>\n",
              "      <td>1</td>\n",
              "      <td>2.7</td>\n",
              "      <td>1</td>\n",
              "      <td>265.1</td>\n",
              "      <td>110</td>\n",
              "      <td>89.0</td>\n",
              "      <td>9.87</td>\n",
              "      <td>10.0</td>\n",
              "    </tr>\n",
              "    <tr>\n",
              "      <th>1</th>\n",
              "      <td>0</td>\n",
              "      <td>107</td>\n",
              "      <td>1</td>\n",
              "      <td>1</td>\n",
              "      <td>3.7</td>\n",
              "      <td>1</td>\n",
              "      <td>161.6</td>\n",
              "      <td>123</td>\n",
              "      <td>82.0</td>\n",
              "      <td>9.78</td>\n",
              "      <td>13.7</td>\n",
              "    </tr>\n",
              "    <tr>\n",
              "      <th>2</th>\n",
              "      <td>0</td>\n",
              "      <td>137</td>\n",
              "      <td>1</td>\n",
              "      <td>0</td>\n",
              "      <td>0.0</td>\n",
              "      <td>0</td>\n",
              "      <td>243.4</td>\n",
              "      <td>114</td>\n",
              "      <td>52.0</td>\n",
              "      <td>6.06</td>\n",
              "      <td>12.2</td>\n",
              "    </tr>\n",
              "    <tr>\n",
              "      <th>3</th>\n",
              "      <td>0</td>\n",
              "      <td>84</td>\n",
              "      <td>0</td>\n",
              "      <td>0</td>\n",
              "      <td>0.0</td>\n",
              "      <td>2</td>\n",
              "      <td>299.4</td>\n",
              "      <td>71</td>\n",
              "      <td>57.0</td>\n",
              "      <td>3.10</td>\n",
              "      <td>6.6</td>\n",
              "    </tr>\n",
              "    <tr>\n",
              "      <th>4</th>\n",
              "      <td>0</td>\n",
              "      <td>75</td>\n",
              "      <td>0</td>\n",
              "      <td>0</td>\n",
              "      <td>0.0</td>\n",
              "      <td>3</td>\n",
              "      <td>166.7</td>\n",
              "      <td>113</td>\n",
              "      <td>41.0</td>\n",
              "      <td>7.42</td>\n",
              "      <td>10.1</td>\n",
              "    </tr>\n",
              "  </tbody>\n",
              "</table>\n",
              "</div>"
            ],
            "text/plain": [
              "   Churn  AccountWeeks  ContractRenewal  ...  MonthlyCharge  OverageFee  RoamMins\n",
              "0      0           128                1  ...           89.0        9.87      10.0\n",
              "1      0           107                1  ...           82.0        9.78      13.7\n",
              "2      0           137                1  ...           52.0        6.06      12.2\n",
              "3      0            84                0  ...           57.0        3.10       6.6\n",
              "4      0            75                0  ...           41.0        7.42      10.1\n",
              "\n",
              "[5 rows x 11 columns]"
            ]
          },
          "metadata": {
            "tags": []
          },
          "execution_count": 4
        }
      ]
    },
    {
      "cell_type": "code",
      "metadata": {
        "id": "NYSF3oBS_W2j",
        "outputId": "67ceb03f-9bfb-408c-e10e-98b63b5d71da",
        "colab": {
          "base_uri": "https://localhost:8080/"
        }
      },
      "source": [
        "data.shape"
      ],
      "execution_count": 7,
      "outputs": [
        {
          "output_type": "execute_result",
          "data": {
            "text/plain": [
              "(3333, 11)"
            ]
          },
          "metadata": {
            "tags": []
          },
          "execution_count": 7
        }
      ]
    },
    {
      "cell_type": "code",
      "metadata": {
        "id": "JAgFDqZk_ZMH",
        "outputId": "32960e53-a6cb-47c4-c8d1-14f15d034236",
        "colab": {
          "base_uri": "https://localhost:8080/"
        }
      },
      "source": [
        "# Describe our data for each feature and use .info() for get information about our dataset\n",
        "data.info()"
      ],
      "execution_count": 8,
      "outputs": [
        {
          "output_type": "stream",
          "text": [
            "<class 'pandas.core.frame.DataFrame'>\n",
            "RangeIndex: 3333 entries, 0 to 3332\n",
            "Data columns (total 11 columns):\n",
            " #   Column           Non-Null Count  Dtype  \n",
            "---  ------           --------------  -----  \n",
            " 0   Churn            3333 non-null   int64  \n",
            " 1   AccountWeeks     3333 non-null   int64  \n",
            " 2   ContractRenewal  3333 non-null   int64  \n",
            " 3   DataPlan         3333 non-null   int64  \n",
            " 4   DataUsage        3333 non-null   float64\n",
            " 5   CustServCalls    3333 non-null   int64  \n",
            " 6   DayMins          3333 non-null   float64\n",
            " 7   DayCalls         3333 non-null   int64  \n",
            " 8   MonthlyCharge    3333 non-null   float64\n",
            " 9   OverageFee       3333 non-null   float64\n",
            " 10  RoamMins         3333 non-null   float64\n",
            "dtypes: float64(5), int64(6)\n",
            "memory usage: 286.6 KB\n"
          ],
          "name": "stdout"
        }
      ]
    },
    {
      "cell_type": "markdown",
      "metadata": {
        "id": "dyyCe8ow_529"
      },
      "source": [
        "data.shape\n"
      ]
    },
    {
      "cell_type": "code",
      "metadata": {
        "id": "WAxGNrhu_ZwB",
        "outputId": "805165c4-080f-43b4-e4f2-4bd7e8cc23c2",
        "colab": {
          "base_uri": "https://localhost:8080/"
        }
      },
      "source": [
        "# Analys missing values\n",
        "data.isna().sum()"
      ],
      "execution_count": 9,
      "outputs": [
        {
          "output_type": "execute_result",
          "data": {
            "text/plain": [
              "Churn              0\n",
              "AccountWeeks       0\n",
              "ContractRenewal    0\n",
              "DataPlan           0\n",
              "DataUsage          0\n",
              "CustServCalls      0\n",
              "DayMins            0\n",
              "DayCalls           0\n",
              "MonthlyCharge      0\n",
              "OverageFee         0\n",
              "RoamMins           0\n",
              "dtype: int64"
            ]
          },
          "metadata": {
            "tags": []
          },
          "execution_count": 9
        }
      ]
    },
    {
      "cell_type": "code",
      "metadata": {
        "id": "R0rn8GYR8yn5",
        "outputId": "c703550d-ed4d-4fab-f6f4-79b89b9ee53c",
        "colab": {
          "base_uri": "https://localhost:8080/",
          "height": 297
        }
      },
      "source": [
        "data.describe()"
      ],
      "execution_count": 10,
      "outputs": [
        {
          "output_type": "execute_result",
          "data": {
            "text/html": [
              "<div>\n",
              "<style scoped>\n",
              "    .dataframe tbody tr th:only-of-type {\n",
              "        vertical-align: middle;\n",
              "    }\n",
              "\n",
              "    .dataframe tbody tr th {\n",
              "        vertical-align: top;\n",
              "    }\n",
              "\n",
              "    .dataframe thead th {\n",
              "        text-align: right;\n",
              "    }\n",
              "</style>\n",
              "<table border=\"1\" class=\"dataframe\">\n",
              "  <thead>\n",
              "    <tr style=\"text-align: right;\">\n",
              "      <th></th>\n",
              "      <th>Churn</th>\n",
              "      <th>AccountWeeks</th>\n",
              "      <th>ContractRenewal</th>\n",
              "      <th>DataPlan</th>\n",
              "      <th>DataUsage</th>\n",
              "      <th>CustServCalls</th>\n",
              "      <th>DayMins</th>\n",
              "      <th>DayCalls</th>\n",
              "      <th>MonthlyCharge</th>\n",
              "      <th>OverageFee</th>\n",
              "      <th>RoamMins</th>\n",
              "    </tr>\n",
              "  </thead>\n",
              "  <tbody>\n",
              "    <tr>\n",
              "      <th>count</th>\n",
              "      <td>3333.000000</td>\n",
              "      <td>3333.000000</td>\n",
              "      <td>3333.000000</td>\n",
              "      <td>3333.000000</td>\n",
              "      <td>3333.000000</td>\n",
              "      <td>3333.000000</td>\n",
              "      <td>3333.000000</td>\n",
              "      <td>3333.000000</td>\n",
              "      <td>3333.000000</td>\n",
              "      <td>3333.000000</td>\n",
              "      <td>3333.000000</td>\n",
              "    </tr>\n",
              "    <tr>\n",
              "      <th>mean</th>\n",
              "      <td>0.144914</td>\n",
              "      <td>101.064806</td>\n",
              "      <td>0.903090</td>\n",
              "      <td>0.276628</td>\n",
              "      <td>0.816475</td>\n",
              "      <td>1.562856</td>\n",
              "      <td>179.775098</td>\n",
              "      <td>100.435644</td>\n",
              "      <td>56.305161</td>\n",
              "      <td>10.051488</td>\n",
              "      <td>10.237294</td>\n",
              "    </tr>\n",
              "    <tr>\n",
              "      <th>std</th>\n",
              "      <td>0.352067</td>\n",
              "      <td>39.822106</td>\n",
              "      <td>0.295879</td>\n",
              "      <td>0.447398</td>\n",
              "      <td>1.272668</td>\n",
              "      <td>1.315491</td>\n",
              "      <td>54.467389</td>\n",
              "      <td>20.069084</td>\n",
              "      <td>16.426032</td>\n",
              "      <td>2.535712</td>\n",
              "      <td>2.791840</td>\n",
              "    </tr>\n",
              "    <tr>\n",
              "      <th>min</th>\n",
              "      <td>0.000000</td>\n",
              "      <td>1.000000</td>\n",
              "      <td>0.000000</td>\n",
              "      <td>0.000000</td>\n",
              "      <td>0.000000</td>\n",
              "      <td>0.000000</td>\n",
              "      <td>0.000000</td>\n",
              "      <td>0.000000</td>\n",
              "      <td>14.000000</td>\n",
              "      <td>0.000000</td>\n",
              "      <td>0.000000</td>\n",
              "    </tr>\n",
              "    <tr>\n",
              "      <th>25%</th>\n",
              "      <td>0.000000</td>\n",
              "      <td>74.000000</td>\n",
              "      <td>1.000000</td>\n",
              "      <td>0.000000</td>\n",
              "      <td>0.000000</td>\n",
              "      <td>1.000000</td>\n",
              "      <td>143.700000</td>\n",
              "      <td>87.000000</td>\n",
              "      <td>45.000000</td>\n",
              "      <td>8.330000</td>\n",
              "      <td>8.500000</td>\n",
              "    </tr>\n",
              "    <tr>\n",
              "      <th>50%</th>\n",
              "      <td>0.000000</td>\n",
              "      <td>101.000000</td>\n",
              "      <td>1.000000</td>\n",
              "      <td>0.000000</td>\n",
              "      <td>0.000000</td>\n",
              "      <td>1.000000</td>\n",
              "      <td>179.400000</td>\n",
              "      <td>101.000000</td>\n",
              "      <td>53.500000</td>\n",
              "      <td>10.070000</td>\n",
              "      <td>10.300000</td>\n",
              "    </tr>\n",
              "    <tr>\n",
              "      <th>75%</th>\n",
              "      <td>0.000000</td>\n",
              "      <td>127.000000</td>\n",
              "      <td>1.000000</td>\n",
              "      <td>1.000000</td>\n",
              "      <td>1.780000</td>\n",
              "      <td>2.000000</td>\n",
              "      <td>216.400000</td>\n",
              "      <td>114.000000</td>\n",
              "      <td>66.200000</td>\n",
              "      <td>11.770000</td>\n",
              "      <td>12.100000</td>\n",
              "    </tr>\n",
              "    <tr>\n",
              "      <th>max</th>\n",
              "      <td>1.000000</td>\n",
              "      <td>243.000000</td>\n",
              "      <td>1.000000</td>\n",
              "      <td>1.000000</td>\n",
              "      <td>5.400000</td>\n",
              "      <td>9.000000</td>\n",
              "      <td>350.800000</td>\n",
              "      <td>165.000000</td>\n",
              "      <td>111.300000</td>\n",
              "      <td>18.190000</td>\n",
              "      <td>20.000000</td>\n",
              "    </tr>\n",
              "  </tbody>\n",
              "</table>\n",
              "</div>"
            ],
            "text/plain": [
              "             Churn  AccountWeeks  ...   OverageFee     RoamMins\n",
              "count  3333.000000   3333.000000  ...  3333.000000  3333.000000\n",
              "mean      0.144914    101.064806  ...    10.051488    10.237294\n",
              "std       0.352067     39.822106  ...     2.535712     2.791840\n",
              "min       0.000000      1.000000  ...     0.000000     0.000000\n",
              "25%       0.000000     74.000000  ...     8.330000     8.500000\n",
              "50%       0.000000    101.000000  ...    10.070000    10.300000\n",
              "75%       0.000000    127.000000  ...    11.770000    12.100000\n",
              "max       1.000000    243.000000  ...    18.190000    20.000000\n",
              "\n",
              "[8 rows x 11 columns]"
            ]
          },
          "metadata": {
            "tags": []
          },
          "execution_count": 10
        }
      ]
    },
    {
      "cell_type": "code",
      "metadata": {
        "id": "f0BsCqfcAfXN",
        "outputId": "b2f22f74-8616-4c9c-b25f-896a52c97eea",
        "colab": {
          "base_uri": "https://localhost:8080/",
          "height": 142
        }
      },
      "source": [
        "data.groupby(by=\"Churn\").count() #so our label is a continouos variable, which also denote a binary classification problem"
      ],
      "execution_count": 11,
      "outputs": [
        {
          "output_type": "execute_result",
          "data": {
            "text/html": [
              "<div>\n",
              "<style scoped>\n",
              "    .dataframe tbody tr th:only-of-type {\n",
              "        vertical-align: middle;\n",
              "    }\n",
              "\n",
              "    .dataframe tbody tr th {\n",
              "        vertical-align: top;\n",
              "    }\n",
              "\n",
              "    .dataframe thead th {\n",
              "        text-align: right;\n",
              "    }\n",
              "</style>\n",
              "<table border=\"1\" class=\"dataframe\">\n",
              "  <thead>\n",
              "    <tr style=\"text-align: right;\">\n",
              "      <th></th>\n",
              "      <th>AccountWeeks</th>\n",
              "      <th>ContractRenewal</th>\n",
              "      <th>DataPlan</th>\n",
              "      <th>DataUsage</th>\n",
              "      <th>CustServCalls</th>\n",
              "      <th>DayMins</th>\n",
              "      <th>DayCalls</th>\n",
              "      <th>MonthlyCharge</th>\n",
              "      <th>OverageFee</th>\n",
              "      <th>RoamMins</th>\n",
              "    </tr>\n",
              "    <tr>\n",
              "      <th>Churn</th>\n",
              "      <th></th>\n",
              "      <th></th>\n",
              "      <th></th>\n",
              "      <th></th>\n",
              "      <th></th>\n",
              "      <th></th>\n",
              "      <th></th>\n",
              "      <th></th>\n",
              "      <th></th>\n",
              "      <th></th>\n",
              "    </tr>\n",
              "  </thead>\n",
              "  <tbody>\n",
              "    <tr>\n",
              "      <th>0</th>\n",
              "      <td>2850</td>\n",
              "      <td>2850</td>\n",
              "      <td>2850</td>\n",
              "      <td>2850</td>\n",
              "      <td>2850</td>\n",
              "      <td>2850</td>\n",
              "      <td>2850</td>\n",
              "      <td>2850</td>\n",
              "      <td>2850</td>\n",
              "      <td>2850</td>\n",
              "    </tr>\n",
              "    <tr>\n",
              "      <th>1</th>\n",
              "      <td>483</td>\n",
              "      <td>483</td>\n",
              "      <td>483</td>\n",
              "      <td>483</td>\n",
              "      <td>483</td>\n",
              "      <td>483</td>\n",
              "      <td>483</td>\n",
              "      <td>483</td>\n",
              "      <td>483</td>\n",
              "      <td>483</td>\n",
              "    </tr>\n",
              "  </tbody>\n",
              "</table>\n",
              "</div>"
            ],
            "text/plain": [
              "       AccountWeeks  ContractRenewal  ...  OverageFee  RoamMins\n",
              "Churn                                 ...                      \n",
              "0              2850             2850  ...        2850      2850\n",
              "1               483              483  ...         483       483\n",
              "\n",
              "[2 rows x 10 columns]"
            ]
          },
          "metadata": {
            "tags": []
          },
          "execution_count": 11
        }
      ]
    },
    {
      "cell_type": "markdown",
      "metadata": {
        "id": "mafv77XI8yn8"
      },
      "source": [
        "# Exploratory Data Analysis"
      ]
    },
    {
      "cell_type": "code",
      "metadata": {
        "id": "Pwxyvr-W8yn8",
        "outputId": "775a4618-873f-40f6-d1ef-794fb7e877dd",
        "colab": {
          "base_uri": "https://localhost:8080/",
          "height": 350
        }
      },
      "source": [
        "# Our label Distribution (countplot)\n",
        "sns.countplot(data['Churn'])"
      ],
      "execution_count": 12,
      "outputs": [
        {
          "output_type": "stream",
          "text": [
            "/usr/local/lib/python3.6/dist-packages/seaborn/_decorators.py:43: FutureWarning: Pass the following variable as a keyword arg: x. From version 0.12, the only valid positional argument will be `data`, and passing other arguments without an explicit keyword will result in an error or misinterpretation.\n",
            "  FutureWarning\n"
          ],
          "name": "stderr"
        },
        {
          "output_type": "execute_result",
          "data": {
            "text/plain": [
              "<matplotlib.axes._subplots.AxesSubplot at 0x7f81e0fe4860>"
            ]
          },
          "metadata": {
            "tags": []
          },
          "execution_count": 12
        },
        {
          "output_type": "display_data",
          "data": {
            "image/png": "[encoded data removed]",
            "text/plain": [
              "<Figure size 432x288 with 1 Axes>"
            ]
          },
          "metadata": {
            "tags": [],
            "needs_background": "light"
          }
        }
      ]
    },
    {
      "cell_type": "code",
      "metadata": {
        "id": "0VoJOy5U8yn_",
        "outputId": "06dcb04f-c8fa-40f3-ce68-b07ecc5e48ad",
        "colab": {
          "base_uri": "https://localhost:8080/",
          "height": 568
        }
      },
      "source": [
        "# Example EDA\n",
        "plt.figure(figsize=(16, 8))\n",
        "sns.distplot(data[\"AccountWeeks\"])"
      ],
      "execution_count": 13,
      "outputs": [
        {
          "output_type": "stream",
          "text": [
            "/usr/local/lib/python3.6/dist-packages/seaborn/distributions.py:2551: FutureWarning: `distplot` is a deprecated function and will be removed in a future version. Please adapt your code to use either `displot` (a figure-level function with similar flexibility) or `histplot` (an axes-level function for histograms).\n",
            "  warnings.warn(msg, FutureWarning)\n"
          ],
          "name": "stderr"
        },
        {
          "output_type": "execute_result",
          "data": {
            "text/plain": [
              "<matplotlib.axes._subplots.AxesSubplot at 0x7f81e0f28470>"
            ]
          },
          "metadata": {
            "tags": []
          },
          "execution_count": 13
        },
        {
          "output_type": "display_data",
          "data": {
            "image/png": "[encoded data removed]",
            "text/plain": [
              "<Figure size 1152x576 with 1 Axes>"
            ]
          },
          "metadata": {
            "tags": [],
            "needs_background": "light"
          }
        }
      ]
    },
    {
      "cell_type": "markdown",
      "metadata": {
        "id": "WBZog4jl8yoC"
      },
      "source": [
        "# Preprocessing\n",
        "\n",
        "- Are there any duplicated values?\n",
        "- Do we need to do feature scaling?\n",
        "- Do we need to generate new features?\n",
        "- Split Train and Test dataset. (0.7/0.3)"
      ]
    },
    {
      "cell_type": "code",
      "metadata": {
        "id": "0C1GWZ9SAxWO",
        "outputId": "fd2371f0-6f3e-43e0-f1a1-61d88fcf7ed4",
        "colab": {
          "base_uri": "https://localhost:8080/"
        }
      },
      "source": [
        "#checking for any duplicated values\n",
        "from pandas import read_csv\n",
        "# calculate duplicates\n",
        "dups = data.duplicated()\n",
        "# report if there are any duplicates\n",
        "print(dups.any())"
      ],
      "execution_count": 14,
      "outputs": [
        {
          "output_type": "stream",
          "text": [
            "False\n"
          ],
          "name": "stdout"
        }
      ]
    },
    {
      "cell_type": "code",
      "metadata": {
        "id": "dAi_LDP3AyIc",
        "outputId": "377c275e-9451-48ca-96c4-9e74a21d8f40",
        "colab": {
          "base_uri": "https://localhost:8080/"
        }
      },
      "source": [
        "#check for outliers\n",
        "from scipy import stats\n",
        "z = np.abs(stats.zscore(data))\n",
        "z"
      ],
      "execution_count": 15,
      "outputs": [
        {
          "output_type": "execute_result",
          "data": {
            "text/plain": [
              "array([[0.41167182, 0.67648946, 0.32758048, ..., 1.99072703, 0.0715836 ,\n",
              "        0.08500823],\n",
              "       [0.41167182, 0.14906505, 0.32758048, ..., 1.56451025, 0.10708191,\n",
              "        1.24048169],\n",
              "       [0.41167182, 0.9025285 , 0.32758048, ..., 0.26213309, 1.57434567,\n",
              "        0.70312091],\n",
              "       ...,\n",
              "       [0.41167182, 1.83505538, 0.32758048, ..., 0.01858065, 1.73094204,\n",
              "        1.3837779 ],\n",
              "       [0.41167182, 2.08295458, 3.05268496, ..., 0.38390932, 0.81704825,\n",
              "        1.87621082],\n",
              "       [0.41167182, 0.67974475, 0.32758048, ..., 2.66049626, 1.28129669,\n",
              "        1.24048169]])"
            ]
          },
          "metadata": {
            "tags": []
          },
          "execution_count": 15
        }
      ]
    },
    {
      "cell_type": "code",
      "metadata": {
        "id": "luRAtm3xA12v",
        "outputId": "6eeccc35-408e-48a9-ff69-f54d7f343bf8",
        "colab": {
          "base_uri": "https://localhost:8080/"
        }
      },
      "source": [
        "len(np.where(z > 3)[0])"
      ],
      "execution_count": 16,
      "outputs": [
        {
          "output_type": "execute_result",
          "data": {
            "text/plain": [
              "426"
            ]
          },
          "metadata": {
            "tags": []
          },
          "execution_count": 16
        }
      ]
    },
    {
      "cell_type": "code",
      "metadata": {
        "id": "32meawDqA2Xl",
        "outputId": "23115361-aee4-4da2-ed79-10713a746ec9",
        "colab": {
          "base_uri": "https://localhost:8080/",
          "height": 419
        }
      },
      "source": [
        "outliers = list(set(np.where(z > 3)[0]))\n",
        "new_data = data.drop(outliers,axis = 0).reset_index(drop = True)\n",
        "display(new_data)"
      ],
      "execution_count": 17,
      "outputs": [
        {
          "output_type": "display_data",
          "data": {
            "text/html": [
              "<div>\n",
              "<style scoped>\n",
              "    .dataframe tbody tr th:only-of-type {\n",
              "        vertical-align: middle;\n",
              "    }\n",
              "\n",
              "    .dataframe tbody tr th {\n",
              "        vertical-align: top;\n",
              "    }\n",
              "\n",
              "    .dataframe thead th {\n",
              "        text-align: right;\n",
              "    }\n",
              "</style>\n",
              "<table border=\"1\" class=\"dataframe\">\n",
              "  <thead>\n",
              "    <tr style=\"text-align: right;\">\n",
              "      <th></th>\n",
              "      <th>Churn</th>\n",
              "      <th>AccountWeeks</th>\n",
              "      <th>ContractRenewal</th>\n",
              "      <th>DataPlan</th>\n",
              "      <th>DataUsage</th>\n",
              "      <th>CustServCalls</th>\n",
              "      <th>DayMins</th>\n",
              "      <th>DayCalls</th>\n",
              "      <th>MonthlyCharge</th>\n",
              "      <th>OverageFee</th>\n",
              "      <th>RoamMins</th>\n",
              "    </tr>\n",
              "  </thead>\n",
              "  <tbody>\n",
              "    <tr>\n",
              "      <th>0</th>\n",
              "      <td>0</td>\n",
              "      <td>128</td>\n",
              "      <td>1</td>\n",
              "      <td>1</td>\n",
              "      <td>2.70</td>\n",
              "      <td>1</td>\n",
              "      <td>265.1</td>\n",
              "      <td>110</td>\n",
              "      <td>89.0</td>\n",
              "      <td>9.87</td>\n",
              "      <td>10.0</td>\n",
              "    </tr>\n",
              "    <tr>\n",
              "      <th>1</th>\n",
              "      <td>0</td>\n",
              "      <td>107</td>\n",
              "      <td>1</td>\n",
              "      <td>1</td>\n",
              "      <td>3.70</td>\n",
              "      <td>1</td>\n",
              "      <td>161.6</td>\n",
              "      <td>123</td>\n",
              "      <td>82.0</td>\n",
              "      <td>9.78</td>\n",
              "      <td>13.7</td>\n",
              "    </tr>\n",
              "    <tr>\n",
              "      <th>2</th>\n",
              "      <td>0</td>\n",
              "      <td>137</td>\n",
              "      <td>1</td>\n",
              "      <td>0</td>\n",
              "      <td>0.00</td>\n",
              "      <td>0</td>\n",
              "      <td>243.4</td>\n",
              "      <td>114</td>\n",
              "      <td>52.0</td>\n",
              "      <td>6.06</td>\n",
              "      <td>12.2</td>\n",
              "    </tr>\n",
              "    <tr>\n",
              "      <th>3</th>\n",
              "      <td>0</td>\n",
              "      <td>121</td>\n",
              "      <td>1</td>\n",
              "      <td>1</td>\n",
              "      <td>2.03</td>\n",
              "      <td>3</td>\n",
              "      <td>218.2</td>\n",
              "      <td>88</td>\n",
              "      <td>87.3</td>\n",
              "      <td>17.43</td>\n",
              "      <td>7.5</td>\n",
              "    </tr>\n",
              "    <tr>\n",
              "      <th>4</th>\n",
              "      <td>0</td>\n",
              "      <td>117</td>\n",
              "      <td>1</td>\n",
              "      <td>0</td>\n",
              "      <td>0.19</td>\n",
              "      <td>1</td>\n",
              "      <td>184.5</td>\n",
              "      <td>97</td>\n",
              "      <td>63.9</td>\n",
              "      <td>17.58</td>\n",
              "      <td>8.7</td>\n",
              "    </tr>\n",
              "    <tr>\n",
              "      <th>...</th>\n",
              "      <td>...</td>\n",
              "      <td>...</td>\n",
              "      <td>...</td>\n",
              "      <td>...</td>\n",
              "      <td>...</td>\n",
              "      <td>...</td>\n",
              "      <td>...</td>\n",
              "      <td>...</td>\n",
              "      <td>...</td>\n",
              "      <td>...</td>\n",
              "      <td>...</td>\n",
              "    </tr>\n",
              "    <tr>\n",
              "      <th>2914</th>\n",
              "      <td>0</td>\n",
              "      <td>79</td>\n",
              "      <td>1</td>\n",
              "      <td>0</td>\n",
              "      <td>0.00</td>\n",
              "      <td>2</td>\n",
              "      <td>134.7</td>\n",
              "      <td>98</td>\n",
              "      <td>40.0</td>\n",
              "      <td>9.49</td>\n",
              "      <td>11.8</td>\n",
              "    </tr>\n",
              "    <tr>\n",
              "      <th>2915</th>\n",
              "      <td>0</td>\n",
              "      <td>192</td>\n",
              "      <td>1</td>\n",
              "      <td>1</td>\n",
              "      <td>2.67</td>\n",
              "      <td>2</td>\n",
              "      <td>156.2</td>\n",
              "      <td>77</td>\n",
              "      <td>71.7</td>\n",
              "      <td>10.78</td>\n",
              "      <td>9.9</td>\n",
              "    </tr>\n",
              "    <tr>\n",
              "      <th>2916</th>\n",
              "      <td>0</td>\n",
              "      <td>68</td>\n",
              "      <td>1</td>\n",
              "      <td>0</td>\n",
              "      <td>0.34</td>\n",
              "      <td>3</td>\n",
              "      <td>231.1</td>\n",
              "      <td>57</td>\n",
              "      <td>56.4</td>\n",
              "      <td>7.67</td>\n",
              "      <td>9.6</td>\n",
              "    </tr>\n",
              "    <tr>\n",
              "      <th>2917</th>\n",
              "      <td>0</td>\n",
              "      <td>28</td>\n",
              "      <td>1</td>\n",
              "      <td>0</td>\n",
              "      <td>0.00</td>\n",
              "      <td>2</td>\n",
              "      <td>180.8</td>\n",
              "      <td>109</td>\n",
              "      <td>56.0</td>\n",
              "      <td>14.44</td>\n",
              "      <td>14.1</td>\n",
              "    </tr>\n",
              "    <tr>\n",
              "      <th>2918</th>\n",
              "      <td>0</td>\n",
              "      <td>74</td>\n",
              "      <td>1</td>\n",
              "      <td>1</td>\n",
              "      <td>3.70</td>\n",
              "      <td>0</td>\n",
              "      <td>234.4</td>\n",
              "      <td>113</td>\n",
              "      <td>100.0</td>\n",
              "      <td>13.30</td>\n",
              "      <td>13.7</td>\n",
              "    </tr>\n",
              "  </tbody>\n",
              "</table>\n",
              "<p>2919 rows × 11 columns</p>\n",
              "</div>"
            ],
            "text/plain": [
              "      Churn  AccountWeeks  ContractRenewal  ...  MonthlyCharge  OverageFee  RoamMins\n",
              "0         0           128                1  ...           89.0        9.87      10.0\n",
              "1         0           107                1  ...           82.0        9.78      13.7\n",
              "2         0           137                1  ...           52.0        6.06      12.2\n",
              "3         0           121                1  ...           87.3       17.43       7.5\n",
              "4         0           117                1  ...           63.9       17.58       8.7\n",
              "...     ...           ...              ...  ...            ...         ...       ...\n",
              "2914      0            79                1  ...           40.0        9.49      11.8\n",
              "2915      0           192                1  ...           71.7       10.78       9.9\n",
              "2916      0            68                1  ...           56.4        7.67       9.6\n",
              "2917      0            28                1  ...           56.0       14.44      14.1\n",
              "2918      0            74                1  ...          100.0       13.30      13.7\n",
              "\n",
              "[2919 rows x 11 columns]"
            ]
          },
          "metadata": {
            "tags": []
          }
        }
      ]
    },
    {
      "cell_type": "code",
      "metadata": {
        "id": "KSKrgrnEA2lv"
      },
      "source": [
        "#split and train dataset\n",
        "x = new_data.drop(\"Churn\", axis=1)\n",
        "y = new_data[\"Churn\"]"
      ],
      "execution_count": 18,
      "outputs": []
    },
    {
      "cell_type": "code",
      "metadata": {
        "id": "avf1sPNwA2Kf"
      },
      "source": [
        "from sklearn.model_selection import train_test_split\n",
        "X_train, X_test, y_train, y_test = train_test_split(x, y, test_size=0.3, random_state=7, stratify=y)\n",
        "#Note: stratify was used as a result of the label imbalance in order the balance the distribution that way in train and test split"
      ],
      "execution_count": 19,
      "outputs": []
    },
    {
      "cell_type": "code",
      "metadata": {
        "id": "nr1inOaqA1fZ"
      },
      "source": [
        "#scaling using MinMaxScaler or StandardScaler\n",
        "from sklearn.preprocessing import StandardScaler, MinMaxScaler\n",
        "scaler = StandardScaler()\n",
        "X_train_scaled = scaler.fit_transform(X_train)\n",
        "X_test_scaled = scaler.transform(X_test)"
      ],
      "execution_count": 20,
      "outputs": []
    },
    {
      "cell_type": "markdown",
      "metadata": {
        "id": "y6iaqliU8yoD"
      },
      "source": [
        "# ML Application\n",
        "\n",
        "- Define models.\n",
        "- Fit models.\n",
        "- Evaluate models for both train and test dataset.\n",
        "- Generate Confusion Matrix and scores of Accuracy, Recall, Precision and F1-Score.\n",
        "- Analyse occurrence of overfitting and underfitting. If there is any of them, try to overcome it within a different section."
      ]
    },
    {
      "cell_type": "markdown",
      "metadata": {
        "id": "raEyV2_EBPkj"
      },
      "source": [
        "1. RandomForest Classifier"
      ]
    },
    {
      "cell_type": "code",
      "metadata": {
        "id": "KeGfV4nABV4O",
        "outputId": "87651202-6559-419b-a4d8-4e1f990e9fd4",
        "colab": {
          "base_uri": "https://localhost:8080/"
        }
      },
      "source": [
        "from sklearn.ensemble import  RandomForestClassifier\n",
        "rfc_model = RandomForestClassifier()\n",
        "rfc_model.fit(X_train_scaled, y_train)"
      ],
      "execution_count": 21,
      "outputs": [
        {
          "output_type": "execute_result",
          "data": {
            "text/plain": [
              "RandomForestClassifier(bootstrap=True, ccp_alpha=0.0, class_weight=None,\n",
              "                       criterion='gini', max_depth=None, max_features='auto',\n",
              "                       max_leaf_nodes=None, max_samples=None,\n",
              "                       min_impurity_decrease=0.0, min_impurity_split=None,\n",
              "                       min_samples_leaf=1, min_samples_split=2,\n",
              "                       min_weight_fraction_leaf=0.0, n_estimators=100,\n",
              "                       n_jobs=None, oob_score=False, random_state=None,\n",
              "                       verbose=0, warm_start=False)"
            ]
          },
          "metadata": {
            "tags": []
          },
          "execution_count": 21
        }
      ]
    },
    {
      "cell_type": "code",
      "metadata": {
        "id": "GepvuFs2BYwL",
        "outputId": "2e8e0d99-d923-4448-8912-5e0e029273e6",
        "colab": {
          "base_uri": "https://localhost:8080/"
        }
      },
      "source": [
        "from sklearn.metrics import accuracy_score\n",
        "print(\"Accuracy of train:\",rfc_model.score(X_train_scaled, y_train))\n",
        "print(\"Accuracy of test:\",rfc_model.score(X_test_scaled, y_test))"
      ],
      "execution_count": 22,
      "outputs": [
        {
          "output_type": "stream",
          "text": [
            "Accuracy of train: 1.0\n",
            "Accuracy of test: 0.9452054794520548\n"
          ],
          "name": "stdout"
        }
      ]
    },
    {
      "cell_type": "code",
      "metadata": {
        "id": "gTI397_GBZZv"
      },
      "source": [
        "rfc_prediction = rfc_model.predict(X_test_scaled)"
      ],
      "execution_count": 23,
      "outputs": []
    },
    {
      "cell_type": "markdown",
      "metadata": {
        "id": "Zqxh7jRkBlv0"
      },
      "source": [
        "Bias for training = 1-1 = 0\n",
        "Bias for test = 1-0.95 = 0.05\n",
        "\n",
        "Variance = test bias - training bias = 0.05\n",
        "\n",
        "The Bias and Variance calculation shows it is negligible due to its relatively small value and the model is okay"
      ]
    },
    {
      "cell_type": "code",
      "metadata": {
        "id": "dtrtnezCBZNU",
        "outputId": "d620cef7-6e1f-43c2-a7c0-0bf6dca5540d",
        "colab": {
          "base_uri": "https://localhost:8080/",
          "height": 502
        }
      },
      "source": [
        "from sklearn.metrics import confusion_matrix\n",
        "\n",
        "cm = confusion_matrix(y_test, rfc_prediction)\n",
        "plt.figure(figsize=(12, 8))\n",
        "ax =sns.heatmap(cm, square=True, annot=True, cbar=False)\n",
        "ax.set_xlabel('Predicted Labels',fontsize = 15)\n",
        "ax.set_ylabel('True Labels',fontsize = 15)\n",
        "plt.show()"
      ],
      "execution_count": 24,
      "outputs": [
        {
          "output_type": "display_data",
          "data": {
            "image/png": "[encoded data removed]",
            "text/plain": [
              "<Figure size 864x576 with 1 Axes>"
            ]
          },
          "metadata": {
            "tags": [],
            "needs_background": "light"
          }
        }
      ]
    },
    {
      "cell_type": "code",
      "metadata": {
        "id": "3dYeGs2EBYkg",
        "outputId": "2a3162bf-f9e5-473c-e96d-8ca00c0ca1a0",
        "colab": {
          "base_uri": "https://localhost:8080/"
        }
      },
      "source": [
        "#Considering other metrics\n",
        "from sklearn.metrics import f1_score, accuracy_score, recall_score, precision_score\n",
        "from sklearn.metrics import classification_report\n",
        "print(classification_report(y_test, rfc_prediction))\n",
        "\n",
        "print(\"Precision = {}\".format(precision_score(y_test, rfc_prediction)))\n",
        "print(\"Recall = {}\".format(recall_score(y_test, rfc_prediction)))\n",
        "print(\"Accuracy = {}\".format(accuracy_score(y_test, rfc_prediction)))\n",
        "print(\"F1 Score = {}\".format(f1_score(y_test, rfc_prediction)))"
      ],
      "execution_count": 25,
      "outputs": [
        {
          "output_type": "stream",
          "text": [
            "              precision    recall  f1-score   support\n",
            "\n",
            "           0       0.96      0.98      0.97       780\n",
            "           1       0.79      0.68      0.73        96\n",
            "\n",
            "    accuracy                           0.95       876\n",
            "   macro avg       0.88      0.83      0.85       876\n",
            "weighted avg       0.94      0.95      0.94       876\n",
            "\n",
            "Precision = 0.7926829268292683\n",
            "Recall = 0.6770833333333334\n",
            "Accuracy = 0.9452054794520548\n",
            "F1 Score = 0.7303370786516854\n"
          ],
          "name": "stdout"
        }
      ]
    },
    {
      "cell_type": "code",
      "metadata": {
        "id": "5uwTLHARBwUs"
      },
      "source": [
        ""
      ],
      "execution_count": null,
      "outputs": []
    },
    {
      "cell_type": "markdown",
      "metadata": {
        "id": "0FVgBgi-CIN3"
      },
      "source": [
        "\n",
        "2. DecisionTree Classifier"
      ]
    },
    {
      "cell_type": "code",
      "metadata": {
        "id": "gqVGA_VpBv9S",
        "outputId": "77ad465d-c139-479f-b76b-c4b6a4f9c9c2",
        "colab": {
          "base_uri": "https://localhost:8080/"
        }
      },
      "source": [
        "from sklearn.tree import DecisionTreeClassifier\n",
        "\n",
        "dtc_model = DecisionTreeClassifier(max_depth=4, random_state=4)\n",
        "dtc_model.fit(X_train_scaled,y_train)\n",
        "print(\"Accuracy of train:\",dtc_model.score(X_train_scaled, y_train))\n",
        "print(\"Accuracy of test:\",dtc_model.score(X_test_scaled,y_test))"
      ],
      "execution_count": 27,
      "outputs": [
        {
          "output_type": "stream",
          "text": [
            "Accuracy of train: 0.9549681840430739\n",
            "Accuracy of test: 0.9372146118721462\n"
          ],
          "name": "stdout"
        }
      ]
    },
    {
      "cell_type": "code",
      "metadata": {
        "id": "Y6SJKA_mBwrq"
      },
      "source": [
        "dtc_prediction = dtc_model.predict(X_test_scaled)"
      ],
      "execution_count": 28,
      "outputs": []
    },
    {
      "cell_type": "code",
      "metadata": {
        "id": "fu613FHiBwfH",
        "outputId": "698349fd-0f48-4303-fa99-30d00df08377",
        "colab": {
          "base_uri": "https://localhost:8080/",
          "height": 502
        }
      },
      "source": [
        "from sklearn.metrics import confusion_matrix\n",
        "\n",
        "cm = confusion_matrix(y_test, dtc_prediction)\n",
        "plt.figure(figsize=(12, 8))\n",
        "ax =sns.heatmap(cm, square=True, annot=True, cbar=False)\n",
        "ax.set_xlabel('Predicted Labels',fontsize = 15)\n",
        "ax.set_ylabel('True Labels',fontsize = 15)\n",
        "plt.show()"
      ],
      "execution_count": 29,
      "outputs": [
        {
          "output_type": "display_data",
          "data": {
            "image/png": "[encoded data removed]",
            "text/plain": [
              "<Figure size 864x576 with 1 Axes>"
            ]
          },
          "metadata": {
            "tags": [],
            "needs_background": "light"
          }
        }
      ]
    },
    {
      "cell_type": "code",
      "metadata": {
        "id": "jM-r9uO5BwEz",
        "outputId": "6ecb2f9e-f9da-4ae7-e2ac-a530a3202e29",
        "colab": {
          "base_uri": "https://localhost:8080/"
        }
      },
      "source": [
        "print(classification_report(y_test, dtc_prediction))\n",
        "\n",
        "print(\"Precision = {}\".format(precision_score(y_test, dtc_prediction)))\n",
        "print(\"Recall = {}\".format(recall_score(y_test, dtc_prediction)))\n",
        "print(\"Accuracy = {}\".format(accuracy_score(y_test, dtc_prediction)))\n",
        "print(\"F1 Score = {}\".format(f1_score(y_test, dtc_prediction)))"
      ],
      "execution_count": 30,
      "outputs": [
        {
          "output_type": "stream",
          "text": [
            "              precision    recall  f1-score   support\n",
            "\n",
            "           0       0.95      0.98      0.97       780\n",
            "           1       0.81      0.56      0.66        96\n",
            "\n",
            "    accuracy                           0.94       876\n",
            "   macro avg       0.88      0.77      0.81       876\n",
            "weighted avg       0.93      0.94      0.93       876\n",
            "\n",
            "Precision = 0.8059701492537313\n",
            "Recall = 0.5625\n",
            "Accuracy = 0.9372146118721462\n",
            "F1 Score = 0.6625766871165644\n"
          ],
          "name": "stdout"
        }
      ]
    },
    {
      "cell_type": "markdown",
      "metadata": {
        "id": "G67X76jVBvkO"
      },
      "source": [
        "3. XGBoost Classifier"
      ]
    },
    {
      "cell_type": "code",
      "metadata": {
        "id": "XDL694PACgLi",
        "outputId": "9855a6a2-035b-4b68-9371-af836fed2e62",
        "colab": {
          "base_uri": "https://localhost:8080/"
        }
      },
      "source": [
        "pip install xgboost"
      ],
      "execution_count": 31,
      "outputs": [
        {
          "output_type": "stream",
          "text": [
            "Requirement already satisfied: xgboost in /usr/local/lib/python3.6/dist-packages (0.90)\n",
            "Requirement already satisfied: scipy in /usr/local/lib/python3.6/dist-packages (from xgboost) (1.4.1)\n",
            "Requirement already satisfied: numpy in /usr/local/lib/python3.6/dist-packages (from xgboost) (1.18.5)\n"
          ],
          "name": "stdout"
        }
      ]
    },
    {
      "cell_type": "code",
      "metadata": {
        "id": "DrwibPmBCm8g",
        "outputId": "817edbfc-b465-4472-d163-5a2fd745dc47",
        "colab": {
          "base_uri": "https://localhost:8080/"
        }
      },
      "source": [
        "from xgboost.sklearn import XGBClassifier\n",
        "xgb_model = XGBClassifier()\n",
        "xgb_model.fit(X_train_scaled,y_train)\n",
        "print(\"Accuracy of train:\",xgb_model.score(X_train_scaled, y_train))\n",
        "print(\"Accuracy of test:\",xgb_model.score(X_test_scaled,y_test))\n"
      ],
      "execution_count": 32,
      "outputs": [
        {
          "output_type": "stream",
          "text": [
            "Accuracy of train: 0.9686735193343123\n",
            "Accuracy of test: 0.9394977168949772\n"
          ],
          "name": "stdout"
        }
      ]
    },
    {
      "cell_type": "code",
      "metadata": {
        "id": "pYYHEN8YCswG",
        "outputId": "c15f5bf5-2a43-4e7f-e5d8-5d0c6211241e",
        "colab": {
          "base_uri": "https://localhost:8080/"
        }
      },
      "source": [
        "#Let us try hyperparameter tuning\n",
        "from sklearn.model_selection import GridSearchCV, RandomizedSearchCV  \n",
        "\n",
        "param_dict = {\n",
        "    'max_depth':range(3,10,2),\n",
        "    'min_child_weight':range(1,6,2),\n",
        "    'learning_rate': [0.001,0.01,0.1,1],\n",
        "    'n_estimators': [200,500,1000],\n",
        "    'num_class': [3]\n",
        "    \n",
        "}\n",
        "\n",
        "xgc = XGBClassifier(booster='gbtree', learning_rate =0.01, n_estimators=200, max_depth=5,\n",
        " min_child_weight=1, gamma=0, subsample=0.8, colsample_bytree=0.8,\n",
        " objective= 'multi:softprob', nthread=4, scale_pos_weight=1, seed=27)\n",
        "\n",
        "clf = GridSearchCV(xgc,param_dict,cv=2,n_jobs = -1).fit(X_train_scaled,y_train)\n",
        "\n",
        "print(\"Tuned: {}\".format(clf.best_params_)) \n",
        "print(\"Mean of the cv scores is {:.6f}\".format(clf.best_score_))\n",
        "print(\"Train Score {:.6f}\".format(clf.score(X_train_scaled,y_train)))\n",
        "print(\"Test Score {:.6f}\".format(clf.score(X_test_scaled,y_test)))\n",
        "print(\"Seconds used for refitting the best model on the train dataset: {:.6f}\".format(clf.refit_time_))"
      ],
      "execution_count": 33,
      "outputs": [
        {
          "output_type": "stream",
          "text": [
            "Tuned: {'learning_rate': 0.01, 'max_depth': 7, 'min_child_weight': 1, 'n_estimators': 200, 'num_class': 3}\n",
            "Mean of the cv scores is 0.955946\n",
            "Train Score 0.973568\n",
            "Test Score 0.946347\n",
            "Seconds used for refitting the best model on the train dataset: 1.320629\n"
          ],
          "name": "stdout"
        }
      ]
    },
    {
      "cell_type": "code",
      "metadata": {
        "id": "WfF4ymnaCxe5"
      },
      "source": [
        "xgb_prediction = xgb_model.predict(X_test_scaled)"
      ],
      "execution_count": 34,
      "outputs": []
    },
    {
      "cell_type": "code",
      "metadata": {
        "id": "dRSPTvhNC00k"
      },
      "source": [
        "\n",
        "clf_prediction = clf.predict(X_test_scaled)"
      ],
      "execution_count": 35,
      "outputs": []
    },
    {
      "cell_type": "code",
      "metadata": {
        "id": "jtjGExZYC62P",
        "outputId": "3270c00f-593d-4295-ddb0-7b2998945afa",
        "colab": {
          "base_uri": "https://localhost:8080/",
          "height": 502
        }
      },
      "source": [
        "# Confusion Matrix without hyperparameter\n",
        "cm = confusion_matrix(y_test, xgb_prediction)\n",
        "plt.figure(figsize=(12, 8))\n",
        "ax =sns.heatmap(cm, square=True, annot=True, cbar=False)\n",
        "ax.set_xlabel('Predicted Labels',fontsize = 15)\n",
        "ax.set_ylabel('True Labels',fontsize = 15)\n",
        "plt.show()"
      ],
      "execution_count": 36,
      "outputs": [
        {
          "output_type": "display_data",
          "data": {
            "image/png": "[encoded data removed]",
            "text/plain": [
              "<Figure size 864x576 with 1 Axes>"
            ]
          },
          "metadata": {
            "tags": [],
            "needs_background": "light"
          }
        }
      ]
    },
    {
      "cell_type": "code",
      "metadata": {
        "id": "Crd9cuypDI4t",
        "outputId": "ffbf648e-e32f-43d4-e7df-c98e0a0ba855",
        "colab": {
          "base_uri": "https://localhost:8080/",
          "height": 502
        }
      },
      "source": [
        "#confusion matrix with hyperparameter\n",
        "cm = confusion_matrix(y_test, clf_prediction)\n",
        "plt.figure(figsize=(12, 8))\n",
        "ax =sns.heatmap(cm, square=True, annot=True, cbar=False)\n",
        "ax.set_xlabel('Predicted Labels',fontsize = 15)\n",
        "ax.set_ylabel('True Labels',fontsize = 15)\n",
        "plt.show()"
      ],
      "execution_count": 37,
      "outputs": [
        {
          "output_type": "display_data",
          "data": {
            "image/png": "[encoded data removed]",
            "text/plain": [
              "<Figure size 864x576 with 1 Axes>"
            ]
          },
          "metadata": {
            "tags": [],
            "needs_background": "light"
          }
        }
      ]
    },
    {
      "cell_type": "markdown",
      "metadata": {
        "id": "yS1aRSgODNZI"
      },
      "source": [
        "\n",
        "So we can say our models did well with or without hyperparameter tuning, though both bias and variance of both xgbmodel are neglible but the hyperparameter helped to reduce it further."
      ]
    },
    {
      "cell_type": "code",
      "metadata": {
        "id": "DehSTZXeDQZy",
        "outputId": "7cdd8b05-5731-4048-9e24-ad48771e0c3e",
        "colab": {
          "base_uri": "https://localhost:8080/"
        }
      },
      "source": [
        "#Without hyperparameter\n",
        "print(classification_report(y_test, xgb_prediction))\n",
        "\n",
        "print(\"Precision = {}\".format(precision_score(y_test, xgb_prediction)))\n",
        "print(\"Recall = {}\".format(recall_score(y_test, xgb_prediction)))\n",
        "print(\"Accuracy = {}\".format(accuracy_score(y_test, xgb_prediction)))\n",
        "print(\"F1 Score = {}\".format(f1_score(y_test, xgb_prediction)))"
      ],
      "execution_count": 38,
      "outputs": [
        {
          "output_type": "stream",
          "text": [
            "              precision    recall  f1-score   support\n",
            "\n",
            "           0       0.96      0.98      0.97       780\n",
            "           1       0.77      0.65      0.70        96\n",
            "\n",
            "    accuracy                           0.94       876\n",
            "   macro avg       0.86      0.81      0.83       876\n",
            "weighted avg       0.94      0.94      0.94       876\n",
            "\n",
            "Precision = 0.7654320987654321\n",
            "Recall = 0.6458333333333334\n",
            "Accuracy = 0.9394977168949772\n",
            "F1 Score = 0.7005649717514124\n"
          ],
          "name": "stdout"
        }
      ]
    },
    {
      "cell_type": "code",
      "metadata": {
        "id": "NwpKcyI9Dv2G",
        "outputId": "f2d23de0-3855-4e70-e339-a532f1e80b92",
        "colab": {
          "base_uri": "https://localhost:8080/"
        }
      },
      "source": [
        "#with hyperparameter\n",
        "print(classification_report(y_test, clf_prediction))\n",
        "\n",
        "print(\"Precision = {}\".format(precision_score(y_test, clf_prediction)))\n",
        "print(\"Recall = {}\".format(recall_score(y_test, clf_prediction)))\n",
        "print(\"Accuracy = {}\".format(accuracy_score(y_test, clf_prediction)))\n",
        "print(\"F1 Score = {}\".format(f1_score(y_test, clf_prediction)))"
      ],
      "execution_count": 40,
      "outputs": [
        {
          "output_type": "stream",
          "text": [
            "              precision    recall  f1-score   support\n",
            "\n",
            "           0       0.96      0.98      0.97       780\n",
            "           1       0.81      0.67      0.73        96\n",
            "\n",
            "    accuracy                           0.95       876\n",
            "   macro avg       0.88      0.82      0.85       876\n",
            "weighted avg       0.94      0.95      0.94       876\n",
            "\n",
            "Precision = 0.810126582278481\n",
            "Recall = 0.6666666666666666\n",
            "Accuracy = 0.9463470319634704\n",
            "F1 Score = 0.7314285714285714\n"
          ],
          "name": "stdout"
        }
      ]
    },
    {
      "cell_type": "markdown",
      "metadata": {
        "id": "sH-cPzedD3GT"
      },
      "source": [
        "4. Logistic Regression"
      ]
    },
    {
      "cell_type": "code",
      "metadata": {
        "id": "amCfu0mYD6Ci",
        "outputId": "7f73cbd8-c138-4f0c-84dd-eb8c2656bf66",
        "colab": {
          "base_uri": "https://localhost:8080/"
        }
      },
      "source": [
        "from sklearn.linear_model import LogisticRegression\n",
        "from sklearn.model_selection import cross_validate\n",
        "\n",
        "\n",
        "lg_model = LogisticRegression(random_state=42, n_jobs=-1)\n",
        "cv = cross_validate(lg_model,X_train_scaled,y_train,cv = 3, n_jobs=-1, return_estimator=True)\n",
        "\n",
        "print(\"Mean training accuracy: {}\".format(np.mean(cv['test_score'])))\n",
        "print(\"Test accuracy: {}\".format(cv[\"estimator\"][0].score(X_test_scaled,y_test)))"
      ],
      "execution_count": 41,
      "outputs": [
        {
          "output_type": "stream",
          "text": [
            "Mean training accuracy: 0.8996573666177191\n",
            "Test accuracy: 0.8961187214611872\n"
          ],
          "name": "stdout"
        }
      ]
    },
    {
      "cell_type": "code",
      "metadata": {
        "id": "TeVIi7K1D-fp",
        "outputId": "89fbea0a-2644-49e8-87f6-0b21ce986342",
        "colab": {
          "base_uri": "https://localhost:8080/"
        }
      },
      "source": [
        "lg_model2 = LogisticRegression()\n",
        "lg_model2.fit(X_train_scaled,y_train)\n",
        "print(\"Accuracy of train:\",xgb_model.score(X_train_scaled, y_train))\n",
        "print(\"Accuracy of test:\",xgb_model.score(X_test_scaled,y_test))"
      ],
      "execution_count": 42,
      "outputs": [
        {
          "output_type": "stream",
          "text": [
            "Accuracy of train: 0.9686735193343123\n",
            "Accuracy of test: 0.9394977168949772\n"
          ],
          "name": "stdout"
        }
      ]
    },
    {
      "cell_type": "code",
      "metadata": {
        "id": "ZD2alXZQEDH-"
      },
      "source": [
        "lg_prediction1 = cv[\"estimator\"][0].predict(X_test_scaled)\n",
        "lg_prediction2 = lg_model2.predict(X_test_scaled)"
      ],
      "execution_count": 43,
      "outputs": []
    },
    {
      "cell_type": "code",
      "metadata": {
        "id": "ZEJHLiWEEWR3",
        "outputId": "40e78402-89ac-40a4-9180-aa1954680fc3",
        "colab": {
          "base_uri": "https://localhost:8080/",
          "height": 502
        }
      },
      "source": [
        "# Confusion Matrix with cv\n",
        "cm = confusion_matrix(y_test, lg_prediction1)\n",
        "plt.figure(figsize=(12, 8))\n",
        "ax =sns.heatmap(cm, square=True, annot=True, cbar=False)\n",
        "ax.set_xlabel('Predicted Labels',fontsize = 15)\n",
        "ax.set_ylabel('True Labels',fontsize = 15)\n",
        "plt.show()"
      ],
      "execution_count": 44,
      "outputs": [
        {
          "output_type": "display_data",
          "data": {
            "image/png": "[encoded data removed]",
            "text/plain": [
              "<Figure size 864x576 with 1 Axes>"
            ]
          },
          "metadata": {
            "tags": [],
            "needs_background": "light"
          }
        }
      ]
    },
    {
      "cell_type": "code",
      "metadata": {
        "id": "kVZ6uCsIEaQL",
        "outputId": "2b372ecb-65ae-4bca-eb83-0bebd2d6d02b",
        "colab": {
          "base_uri": "https://localhost:8080/",
          "height": 502
        }
      },
      "source": [
        "# Confusion Matrix with cv\n",
        "cm = confusion_matrix(y_test, lg_prediction2)\n",
        "plt.figure(figsize=(12, 8))\n",
        "ax =sns.heatmap(cm, square=True, annot=True, cbar=False)\n",
        "ax.set_xlabel('Predicted Labels',fontsize = 15)\n",
        "ax.set_ylabel('True Labels',fontsize = 15)\n",
        "plt.show()"
      ],
      "execution_count": 45,
      "outputs": [
        {
          "output_type": "display_data",
          "data": {
            "image/png": "[encoded data removed]",
            "text/plain": [
              "<Figure size 864x576 with 1 Axes>"
            ]
          },
          "metadata": {
            "tags": [],
            "needs_background": "light"
          }
        }
      ]
    },
    {
      "cell_type": "code",
      "metadata": {
        "id": "57jLUOEhEeFs",
        "outputId": "159e99de-5c1e-4bbb-eb46-1cd0a99d54f9",
        "colab": {
          "base_uri": "https://localhost:8080/"
        }
      },
      "source": [
        "#with cv\n",
        "print(classification_report(y_test, lg_prediction1))\n",
        "\n",
        "print(\"Precision = {}\".format(precision_score(y_test, lg_prediction1)))\n",
        "print(\"Recall = {}\".format(recall_score(y_test, lg_prediction1)))\n",
        "print(\"Accuracy = {}\".format(accuracy_score(y_test, lg_prediction1)))\n",
        "print(\"F1 Score = {}\".format(f1_score(y_test, lg_prediction1)))"
      ],
      "execution_count": 46,
      "outputs": [
        {
          "output_type": "stream",
          "text": [
            "              precision    recall  f1-score   support\n",
            "\n",
            "           0       0.90      0.99      0.94       780\n",
            "           1       0.63      0.12      0.21        96\n",
            "\n",
            "    accuracy                           0.90       876\n",
            "   macro avg       0.77      0.56      0.58       876\n",
            "weighted avg       0.87      0.90      0.86       876\n",
            "\n",
            "Precision = 0.631578947368421\n",
            "Recall = 0.125\n",
            "Accuracy = 0.8961187214611872\n",
            "F1 Score = 0.20869565217391303\n"
          ],
          "name": "stdout"
        }
      ]
    },
    {
      "cell_type": "code",
      "metadata": {
        "id": "MRCkFUYvEhqB",
        "outputId": "9e7be156-478f-4f8e-d7a4-da64a1966213",
        "colab": {
          "base_uri": "https://localhost:8080/"
        }
      },
      "source": [
        "#with hyperparameter\n",
        "print(classification_report(y_test, lg_prediction2))\n",
        "\n",
        "print(\"Precision = {}\".format(precision_score(y_test, lg_prediction2)))\n",
        "print(\"Recall = {}\".format(recall_score(y_test, lg_prediction2)))\n",
        "print(\"Accuracy = {}\".format(accuracy_score(y_test, lg_prediction2)))\n",
        "print(\"F1 Score = {}\".format(f1_score(y_test, lg_prediction2)))"
      ],
      "execution_count": 47,
      "outputs": [
        {
          "output_type": "stream",
          "text": [
            "              precision    recall  f1-score   support\n",
            "\n",
            "           0       0.90      0.99      0.94       780\n",
            "           1       0.57      0.12      0.21        96\n",
            "\n",
            "    accuracy                           0.89       876\n",
            "   macro avg       0.74      0.56      0.57       876\n",
            "weighted avg       0.87      0.89      0.86       876\n",
            "\n",
            "Precision = 0.5714285714285714\n",
            "Recall = 0.125\n",
            "Accuracy = 0.8938356164383562\n",
            "F1 Score = 0.20512820512820512\n"
          ],
          "name": "stdout"
        }
      ]
    },
    {
      "cell_type": "markdown",
      "metadata": {
        "id": "oN0iVcGR8yoE"
      },
      "source": [
        "# Evaluation\n",
        "\n",
        "- Select the best performing model and write your comments about why choose this model.\n",
        "- Analyse results and make comment about how you can improve model."
      ]
    },
    {
      "cell_type": "markdown",
      "metadata": {
        "id": "tOziE5vyEpkf"
      },
      "source": [
        "1.\n",
        "The best performing model is RandomForest, then XGBoost Classifier with hyper parameter tuning. We can not use accuracy to judge because it only works well if there are equal number of samples belonging to each class .i.e the label class. I will be using F1 score and confusion matrix\n",
        "\n",
        "Confusion Matrix\n",
        "\n",
        "Now let us consider confusion matrix of RandomForest, we all know TP was high across all the model but this model has the highest TN as compared to others, the only model closer was XGB Classifier. Even if we are to consider FP & FN, it has lowest. So, we can basically say RandomForest model was the best because it predicted more accurate values and also has the lowest wrongly predicted values as compared to other models.\n",
        "\n",
        "F1 Score\n",
        "\n",
        "Let us then consider F1 Score. What does F1 Score tells us? It means the greater the F1 Score the better the perfomance of our model. So without further ado, also again RandomForest model has the highest F1 Score, then also followed by XGB Classifier"
      ]
    },
    {
      "cell_type": "markdown",
      "metadata": {
        "id": "6zkoCZn1Eui9"
      },
      "source": [
        "2.\n",
        "The truth is, our models can perform better, and one thing about Machine Learning also is, little ignored aspect can be so significant that your model will not perform well. I will be mentioning 3 ways our models can be improved.\n",
        "\n",
        "A. Oversampling techniques like SMOTE to handle imbalanced data, modelling the imbalanced data of the target class will also go a long way to improve our model.\n",
        "\n",
        "C. Considering feature importance. If we remove the features that have very little significance in training our model, it will also help in boosting the performance of our model.\n",
        "\n",
        "D. Ensenmble methods, using the likes of bagging, boosting and the rest could actually help in training out the best model for our dataset."
      ]
    },
    {
      "cell_type": "code",
      "metadata": {
        "id": "XzjSVNv1Er3j"
      },
      "source": [
        ""
      ],
      "execution_count": null,
      "outputs": []
    }
  ]
}